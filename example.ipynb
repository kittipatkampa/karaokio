{
 "cells": [
  {
   "cell_type": "code",
   "execution_count": null,
   "id": "a3e6957a-bec4-4a89-a67b-e6493035b3fc",
   "metadata": {
    "tags": []
   },
   "outputs": [],
   "source": [
    "import os\n",
    "from typing import Union, Tuple\n",
    "from IPython.display import Audio, display, HTML\n",
    "import torch\n",
    "\n",
    "use_cuda = torch.cuda.is_available()\n",
    "device = torch.device(\"cuda\" if use_cuda else \"cpu\")"
   ]
  },
  {
   "cell_type": "markdown",
   "id": "7a46a533-196c-42da-9fcf-f607b426a4b0",
   "metadata": {},
   "source": [
    "# Example from MUSDB18 Dataset"
   ]
  },
  {
   "cell_type": "code",
   "execution_count": null,
   "id": "a9ccf146-d592-446b-827f-52641a3994ac",
   "metadata": {
    "tags": []
   },
   "outputs": [],
   "source": [
    "import musdb"
   ]
  },
  {
   "cell_type": "code",
   "execution_count": null,
   "id": "0fab0e26-1bd5-4bd6-bb08-a5dc6e979f06",
   "metadata": {
    "tags": []
   },
   "outputs": [],
   "source": [
    "path = '~/MUSDB18/MUSDB18-7'\n",
    "expanded_path = os.path.expanduser(path)\n",
    "\n",
    "if os.path.exists(expanded_path):\n",
    "    print(f\"The path {expanded_path} exists, so we will use examples in the path.\")\n",
    "    mus = musdb.DB(root=expanded_path, download=False, subsets='test', )\n",
    "else:\n",
    "    print(f\"The path {expanded_path} does not exist, so need to download.\")\n",
    "    mus = musdb.DB(download=True, subsets='test', )"
   ]
  },
  {
   "cell_type": "code",
   "execution_count": null,
   "id": "768ade0e-7b88-46ce-8869-9c7f92dce8ec",
   "metadata": {
    "tags": []
   },
   "outputs": [],
   "source": [
    "track = mus[49]"
   ]
  },
  {
   "cell_type": "code",
   "execution_count": null,
   "id": "3874e6c2-4101-4802-89f1-fa0ba180d687",
   "metadata": {
    "tags": []
   },
   "outputs": [],
   "source": [
    "print(track.name)\n",
    "display(Audio(track.audio.T, rate=track.rate))"
   ]
  },
  {
   "cell_type": "markdown",
   "id": "8fee263d-4863-4155-b485-1d746ce6488d",
   "metadata": {},
   "source": [
    "### Source-Separate the selected track"
   ]
  },
  {
   "cell_type": "markdown",
   "id": "5c7d02df-97d0-4850-9589-2aca155e3bef",
   "metadata": {},
   "source": [
    "In this section we use `openunmix` from [open-unmix-pytorch github](https://github.com/sigsep/open-unmix-pytorch).\n",
    "More details can be found from this [page](https://sigsep.github.io/open-unmix/).\n",
    "I have learned a lot from its [Colab Notebook](https://colab.research.google.com/drive/1mijF0zGWxN-KaxTnd0q6hayAlrID5fEQ#scrollTo=dvUDAibHbzA5).\n"
   ]
  },
  {
   "cell_type": "code",
   "execution_count": null,
   "id": "beb5be74-dbab-4be5-951d-276ee20f17f1",
   "metadata": {
    "tags": []
   },
   "outputs": [],
   "source": [
    "from openunmix import predict"
   ]
  },
  {
   "cell_type": "code",
   "execution_count": null,
   "id": "65034cdc-5a25-47cd-9fbf-3e294848b721",
   "metadata": {
    "tags": []
   },
   "outputs": [],
   "source": [
    "estimates = predict.separate(\n",
    "    torch.as_tensor(track.audio).float(),\n",
    "    rate=track.rate,\n",
    "    device=device\n",
    ")"
   ]
  },
  {
   "cell_type": "code",
   "execution_count": null,
   "id": "f6806e07-9fb4-4b06-a3b5-ff5d61756a07",
   "metadata": {
    "tags": []
   },
   "outputs": [],
   "source": [
    "for target, estimate in estimates.items():\n",
    "    print(target)\n",
    "    audio = estimate.detach().cpu().numpy()[0]\n",
    "    display(Audio(audio, rate=track.rate))"
   ]
  },
  {
   "cell_type": "markdown",
   "id": "131b68b5-ad56-4b36-a4ba-a377c52f024d",
   "metadata": {},
   "source": [
    "# Download YouTube video"
   ]
  },
  {
   "cell_type": "code",
   "execution_count": null,
   "id": "8ad3db2a-2753-463f-ab6e-e83307f6fa37",
   "metadata": {
    "tags": []
   },
   "outputs": [],
   "source": [
    "from pytube import YouTube"
   ]
  },
  {
   "cell_type": "code",
   "execution_count": null,
   "id": "4d28a2da-8c54-4ae1-a238-91ff5a653d87",
   "metadata": {
    "tags": []
   },
   "outputs": [],
   "source": [
    "def construct_embed_url(vid_key: str, t_start: Union[int, None], t_stop: Union[int, None]) -> str:\n",
    "    if t_start and t_stop:\n",
    "        assert t_start < t_stop, f\"Wait, the start timestamp `t_start` ({t_start}) is supposed to be less than the end timestamp `t_stop` ({t_stop})\"\n",
    "\n",
    "    if vid_key:\n",
    "        embed_url = f\"https://www.youtube.com/embed/{vid_key}?rel=0\"\n",
    "    if t_start:\n",
    "        embed_url += f\"&start={t_start}\"\n",
    "    if t_stop:\n",
    "        embed_url += f\"&end={t_stop}\"\n",
    "    embed_url += \"&;controls=0&;showinfo=0\"\n",
    "    return embed_url\n",
    "\n",
    "# Create a YouTube object and get the video stream with the highest resolution\n",
    "def download_youtube_video_by_key(vid_key: str, \n",
    "                                  output_dir: str='', \n",
    "                                  out_filename: str='clip', \n",
    "                                  file_ext: str='mp4', \n",
    "                                  audio_only: bool=False\n",
    "                                 ) -> Tuple[str, str]:\n",
    "    vid_url = f'https://youtu.be/{vid_key}'\n",
    "\n",
    "    yt = YouTube(vid_url)\n",
    "    download_filename = f'{out_filename}.{file_ext}'\n",
    "    \n",
    "    if audio_only:\n",
    "        ## get audio only\n",
    "        stream = yt.streams.get_audio_only(subtype=file_ext)\n",
    "    else:\n",
    "        ## get both video and audio\n",
    "        stream = yt.streams.get_highest_resolution()\n",
    "\n",
    "    # Download the video\n",
    "    stream.download(output_dir, filename=download_filename)\n",
    "    \n",
    "    return output_dir, download_filename\n",
    "\n",
    "# Use ffmpeg to extract the desired section of the video and audio\n",
    "def crop_clip(output_dir: str, input_filename: str, output_filename: str=None) -> Tuple[str, str]:\n",
    "    if output_filename is None:\n",
    "        filename, ext = input_filename.split('.')\n",
    "        output_filename = f'{filename}_cropped.{ext}'\n",
    "    cmd = f\"yes y | ffmpeg -i {os.path.join(output_dir, input_filename)} -ss {t_start} -to {t_stop} -c copy {os.path.join(output_dir, output_filename)}\"\n",
    "    os.system(cmd)\n",
    "    return output_dir, output_filename"
   ]
  },
  {
   "cell_type": "code",
   "execution_count": null,
   "id": "cfba1036-768f-4993-83d4-9b62a4bfd384",
   "metadata": {
    "tags": []
   },
   "outputs": [],
   "source": [
    "vid_key = input(\"YouTube video hash (e.g. 'ZmUENUZx2w0' for 'https://youtu.be/ZmUENUZx2w0'): \")\n",
    "assert vid_key is not None and isinstance(vid_key, str) and len(vid_key) > 0, \"We need the video hash here, please.\""
   ]
  },
  {
   "cell_type": "code",
   "execution_count": null,
   "id": "5bf494f8-6b12-48f7-829c-dcddc47fe1be",
   "metadata": {
    "tags": []
   },
   "outputs": [],
   "source": [
    "t_start = input(\"time starts (second), please leave it blank for None: \") or None\n",
    "t_stop = input(\"time ends (second), please leave it blank for None: \") or None\n",
    "\n",
    "t_start = int(t_start) if t_start else None\n",
    "t_stop = int(t_stop) if t_stop else None\n",
    "\n",
    "print(f'video start:{t_start} and end:{t_stop}')"
   ]
  },
  {
   "cell_type": "code",
   "execution_count": null,
   "id": "d4333cc7-0e37-45e3-831d-1a187d667bdb",
   "metadata": {
    "tags": []
   },
   "outputs": [],
   "source": [
    "output_dir = input(\"output directory e.g. '~/Downloads/Love_On_Top': \") or 'temp_out'\n",
    "output_dir = os.path.expanduser(output_dir)\n",
    "print(f'output_dir: {output_dir}')"
   ]
  },
  {
   "cell_type": "code",
   "execution_count": null,
   "id": "20478915-75fa-487d-801f-5fae175639ed",
   "metadata": {
    "tags": []
   },
   "outputs": [],
   "source": [
    "embed_url = construct_embed_url(vid_key, t_start, t_stop)\n",
    "print(embed_url)"
   ]
  },
  {
   "cell_type": "code",
   "execution_count": null,
   "id": "4b3349c6-285c-4ed0-8fe4-3fa2943b1529",
   "metadata": {
    "tags": []
   },
   "outputs": [],
   "source": [
    "# Display YouTube\n",
    "print('Preview')\n",
    "HTML('<iframe width=\"560\" height=\"315\" src=' + embed_url + 'frameborder=\"0\" allowfullscreen></iframe>')"
   ]
  },
  {
   "cell_type": "code",
   "execution_count": null,
   "id": "0543039b-f8d4-49c3-bda8-6238346f88eb",
   "metadata": {
    "tags": []
   },
   "outputs": [],
   "source": [
    "output_dir, download_filename = download_youtube_video_by_key(vid_key, output_dir=output_dir)\n",
    "# Show a success message\n",
    "print(f\"The video has been downloaded to {os.path.join(output_dir, download_filename)}.\")"
   ]
  },
  {
   "cell_type": "code",
   "execution_count": null,
   "id": "1aeb0efe-d95c-4e8d-9562-7ed16608c9e7",
   "metadata": {
    "tags": []
   },
   "outputs": [],
   "source": [
    "# crop the clip\n",
    "if (t_start is not None) or (t_stop is not None):\n",
    "    output_dir, output_filename = crop_clip(output_dir, download_filename)\n",
    "else:\n",
    "    output_filename = download_filename\n",
    "\n",
    "clip_path = os.path.join(output_dir, output_filename)\n",
    "print(f'clip_path: {clip_path}')"
   ]
  },
  {
   "cell_type": "markdown",
   "id": "381cdad3-940c-4ed3-a406-917d231aa1c7",
   "metadata": {},
   "source": [
    "### Extract mp3 out of video"
   ]
  },
  {
   "cell_type": "code",
   "execution_count": null,
   "id": "4b66c700-a74f-42f9-94de-e3b5f5b1f6c3",
   "metadata": {
    "tags": []
   },
   "outputs": [],
   "source": [
    "from moviepy.video.io.VideoFileClip import VideoFileClip"
   ]
  },
  {
   "cell_type": "code",
   "execution_count": null,
   "id": "826ad201-8055-4c3e-90f3-cf063dbb3b5d",
   "metadata": {
    "tags": []
   },
   "outputs": [],
   "source": [
    "def change_file_extension(input_path: str, new_ext: str):\n",
    "    # construct output mp3 path\n",
    "    path_tokens = input_path.split('.')\n",
    "    path_tokens[-1] = new_ext\n",
    "    output_path = '.'.join(path_tokens)\n",
    "    return output_path\n",
    "    \n",
    "def extract_mp3_from_video(vid_input_path: str):\n",
    "    mp3_output_path = change_file_extension(vid_input_path, 'mp3')\n",
    "    print(f\"input_path: {vid_input_path} -> output_path: {mp3_output_path}\")\n",
    "\n",
    "    # Extract the audio from the video\n",
    "    video = VideoFileClip(vid_input_path)\n",
    "    audio = video.audio\n",
    "\n",
    "    # Save the audio to a file\n",
    "    print('converting to mp3...')\n",
    "    audio.write_audiofile(mp3_output_path)\n",
    "    print(f'Writing to mp3 file {mp3_output_path} completed')\n",
    "    \n",
    "    return mp3_output_path"
   ]
  },
  {
   "cell_type": "code",
   "execution_count": null,
   "id": "c38c5351-f5bd-4fa1-8182-c2616c74a02e",
   "metadata": {
    "tags": []
   },
   "outputs": [],
   "source": [
    "vid_input_path = clip_path\n",
    "mp3_output_path = extract_mp3_from_video(vid_input_path)"
   ]
  },
  {
   "cell_type": "code",
   "execution_count": null,
   "id": "9b502d89-002e-4d00-9a8c-e3cdc0f3fbde",
   "metadata": {},
   "outputs": [],
   "source": [
    "# ### output image sequences (Taking way too long)\n",
    "# video_dir_out = os.path.join(output_dir,'video')\n",
    "\n",
    "# if not os.path.exists(video_dir_out):\n",
    "#     os.makedirs(video_dir_out)\n",
    "#     print(\"Directory created:\", video_dir_out)\n",
    "# else:\n",
    "#     print(\"Directory already exists:\", video_dir_out)\n",
    "    \n",
    "# video.write_images_sequence(os.path.join(video_dir_out, 'frame_%04d.png'), fps=30, withmask=False)"
   ]
  },
  {
   "cell_type": "markdown",
   "id": "92debd3a-5e14-4191-936d-b549c019222e",
   "metadata": {},
   "source": [
    "### convert mp3 to numpy array"
   ]
  },
  {
   "cell_type": "markdown",
   "id": "935e07d0-635e-4d0f-b291-d44f9942aa93",
   "metadata": {},
   "source": [
    "This project leverage a lot from [stempeg](https://github.com/faroit/stempeg) when read / write multiple tracks."
   ]
  },
  {
   "cell_type": "code",
   "execution_count": null,
   "id": "665b08d6-7890-4dd7-af3c-8529e3b745da",
   "metadata": {},
   "outputs": [],
   "source": [
    "import numpy as np\n",
    "import stempeg\n",
    "from pydub import AudioSegment"
   ]
  },
  {
   "cell_type": "code",
   "execution_count": null,
   "id": "00293da7-5e8c-4cf6-8b2d-2f2ec31c3dc0",
   "metadata": {
    "tags": []
   },
   "outputs": [],
   "source": [
    "def mp3_to_wav(mp3_path: str, wav_path: str=None):\n",
    "    if wav_path is None:\n",
    "        wav_path = mp3_path.replace('.mp3', '.wav')\n",
    "    print(f'wav output: {wav_path}')\n",
    "\n",
    "    # Load the mp3 file\n",
    "    mp3_audio = AudioSegment.from_file(mp3_path)\n",
    "\n",
    "    # Export the audio as a wav file\n",
    "    mp3_audio.export(wav_path, format='wav')\n",
    "    \n",
    "    return wav_path"
   ]
  },
  {
   "cell_type": "code",
   "execution_count": null,
   "id": "668a0bc6-fa0c-4d25-8190-66d69c89f3d5",
   "metadata": {
    "tags": []
   },
   "outputs": [],
   "source": [
    "wav_output_path = mp3_to_wav(mp3_output_path)"
   ]
  },
  {
   "cell_type": "code",
   "execution_count": null,
   "id": "337ee653-643e-4965-a41f-aede811c9da8",
   "metadata": {
    "tags": []
   },
   "outputs": [],
   "source": [
    "# convert from .wav to numpy array\n",
    "audio_tensor, samplerate = stempeg.read_stems(\n",
    "    wav_output_path,\n",
    "    dtype=np.float32\n",
    ")\n",
    "display(Audio(audio_tensor.T, rate=samplerate))"
   ]
  },
  {
   "cell_type": "markdown",
   "id": "d02987b7-de4f-47be-85a8-fd47f577c6a8",
   "metadata": {},
   "source": [
    "# Run Source-Separattion Model"
   ]
  },
  {
   "cell_type": "code",
   "execution_count": null,
   "id": "8e39c074-449c-4cdc-8adb-7846b63ff034",
   "metadata": {
    "tags": []
   },
   "outputs": [],
   "source": [
    "# source-separate audio\n",
    "print('Separating the sources...')\n",
    "estimates = predict.separate(\n",
    "    torch.as_tensor(audio_tensor).float(),\n",
    "    rate=samplerate,\n",
    "    device=device\n",
    ")"
   ]
  },
  {
   "cell_type": "code",
   "execution_count": null,
   "id": "5c6ecbfa-5497-409f-a6a8-50c5925c2cdd",
   "metadata": {
    "tags": []
   },
   "outputs": [],
   "source": [
    "# Display each separate source\n",
    "for target, estimate in estimates.items():\n",
    "    print(target)\n",
    "    display(Audio(estimate.detach().cpu().numpy()[0], rate=samplerate))"
   ]
  },
  {
   "cell_type": "code",
   "execution_count": null,
   "id": "81edb309-4531-4281-a382-0495049b80bb",
   "metadata": {
    "tags": []
   },
   "outputs": [],
   "source": [
    "# prepare dictionary for each component\n",
    "estimates_numpy = {}\n",
    "for target, estimate in estimates.items():\n",
    "    estimates_numpy[target] = torch.squeeze(estimate).detach().cpu().numpy().T"
   ]
  },
  {
   "cell_type": "code",
   "execution_count": null,
   "id": "31a15e2c-66e6-4641-a15a-49b830d102c0",
   "metadata": {
    "tags": []
   },
   "outputs": [],
   "source": [
    "# write each component to mp3\n",
    "stempeg.write_stems(\n",
    "    (output_dir, \".mp3\"),\n",
    "    estimates_numpy,\n",
    "    sample_rate=samplerate,\n",
    "    writer=stempeg.FilesWriter(multiprocess=True, output_sample_rate=44100),\n",
    ")"
   ]
  },
  {
   "cell_type": "markdown",
   "id": "fdfc3479-1ebe-4506-af5b-77ef7a26213c",
   "metadata": {},
   "source": [
    "## Remix"
   ]
  },
  {
   "cell_type": "code",
   "execution_count": null,
   "id": "e98abd69-42b0-49fd-b65c-8d8899a8ff87",
   "metadata": {
    "tags": []
   },
   "outputs": [],
   "source": [
    "# Make Karaoke -- sum everything except vocals\n",
    "acc = np.sum(\n",
    "    [audio.detach().cpu().numpy()[0] for target, audio in estimates.items() if not target=='vocals'],\n",
    "    axis=0\n",
    ")\n",
    "print('Karaoke')\n",
    "display(Audio(acc, rate=track.rate))"
   ]
  },
  {
   "cell_type": "code",
   "execution_count": null,
   "id": "61a71708-ca4e-4775-ae83-dd7b85e3020c",
   "metadata": {
    "tags": []
   },
   "outputs": [],
   "source": [
    "# Only vocals, drums and bass\n",
    "remix = np.sum(\n",
    "    [\n",
    "        0.05 * estimates['vocals'].detach().cpu().numpy()[0],\n",
    "        estimates['drums'].detach().cpu().numpy()[0],\n",
    "        estimates['bass'].detach().cpu().numpy()[0],\n",
    "    ],\n",
    "    axis=0\n",
    ")\n",
    "print('Vocals + Drums + Bass')\n",
    "display(Audio(remix, rate=track.rate))"
   ]
  },
  {
   "cell_type": "code",
   "execution_count": null,
   "id": "70851aeb-4ecd-42a1-a8f5-00995fa4af8a",
   "metadata": {
    "tags": []
   },
   "outputs": [],
   "source": [
    "# Write remix to mp3 on disk\n",
    "stempeg.write_stems(\n",
    "    (output_dir, \".mp3\"),\n",
    "    {\"remix_vocals_drums_bass\": remix.T},\n",
    "    sample_rate=samplerate,\n",
    "    writer=stempeg.FilesWriter(multiprocess=True, output_sample_rate=44100),\n",
    ")"
   ]
  },
  {
   "cell_type": "markdown",
   "id": "0d02ddd4-a927-4f00-8656-4707dd231c14",
   "metadata": {
    "tags": []
   },
   "source": [
    "# Output the new video with new audio"
   ]
  },
  {
   "cell_type": "code",
   "execution_count": null,
   "id": "20593eca-9838-4fa2-98a7-ebad4aa6ebbc",
   "metadata": {
    "tags": []
   },
   "outputs": [],
   "source": [
    "# Merge audio to the video and write to disk\n",
    "new_audio_path = os.path.join(output_dir, \"remix_vocals_drums_bass.mp3\")\n",
    "output_video_path = os.path.join(output_dir, \"output_video.mp4\")\n",
    "cmd = f\"yes y | ffmpeg -i {vid_input_path} -i {new_audio_path} -map 0:v -map 1:a -c:v copy -c:a aac {output_video_path}\"\n",
    "os.system(cmd)\n"
   ]
  },
  {
   "cell_type": "code",
   "execution_count": null,
   "id": "90d01103-555d-4d12-bbb9-97ca41d08543",
   "metadata": {},
   "outputs": [],
   "source": []
  }
 ],
 "metadata": {
  "kernelspec": {
   "display_name": "Python 3 (ipykernel)",
   "language": "python",
   "name": "python3"
  },
  "language_info": {
   "codemirror_mode": {
    "name": "ipython",
    "version": 3
   },
   "file_extension": ".py",
   "mimetype": "text/x-python",
   "name": "python",
   "nbconvert_exporter": "python",
   "pygments_lexer": "ipython3",
   "version": "3.10.9"
  }
 },
 "nbformat": 4,
 "nbformat_minor": 5
}
